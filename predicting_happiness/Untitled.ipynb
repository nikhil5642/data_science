{
 "cells": [
  {
   "cell_type": "code",
   "execution_count": 2,
   "metadata": {
    "collapsed": true
   },
   "outputs": [],
   "source": [
    "import pandas as pd\n",
    "import numpy as np\n",
    "import matplotlib.pyplot as plt"
   ]
  },
  {
   "cell_type": "code",
   "execution_count": 3,
   "metadata": {
    "collapsed": false
   },
   "outputs": [
    {
     "data": {
      "text/html": [
       "<div>\n",
       "<style>\n",
       "    .dataframe thead tr:only-child th {\n",
       "        text-align: right;\n",
       "    }\n",
       "\n",
       "    .dataframe thead th {\n",
       "        text-align: left;\n",
       "    }\n",
       "\n",
       "    .dataframe tbody tr th {\n",
       "        vertical-align: top;\n",
       "    }\n",
       "</style>\n",
       "<table border=\"1\" class=\"dataframe\">\n",
       "  <thead>\n",
       "    <tr style=\"text-align: right;\">\n",
       "      <th></th>\n",
       "      <th>User_ID</th>\n",
       "      <th>Description</th>\n",
       "      <th>Browser_Used</th>\n",
       "      <th>Device_Used</th>\n",
       "      <th>Is_Response</th>\n",
       "    </tr>\n",
       "  </thead>\n",
       "  <tbody>\n",
       "    <tr>\n",
       "      <th>0</th>\n",
       "      <td>id10326</td>\n",
       "      <td>The room was kind of clean but had a VERY stro...</td>\n",
       "      <td>Edge</td>\n",
       "      <td>Mobile</td>\n",
       "      <td>not happy</td>\n",
       "    </tr>\n",
       "    <tr>\n",
       "      <th>1</th>\n",
       "      <td>id10327</td>\n",
       "      <td>I stayed at the Crown Plaza April -- - April -...</td>\n",
       "      <td>Internet Explorer</td>\n",
       "      <td>Mobile</td>\n",
       "      <td>not happy</td>\n",
       "    </tr>\n",
       "    <tr>\n",
       "      <th>2</th>\n",
       "      <td>id10328</td>\n",
       "      <td>I booked this hotel through Hotwire at the low...</td>\n",
       "      <td>Mozilla</td>\n",
       "      <td>Tablet</td>\n",
       "      <td>not happy</td>\n",
       "    </tr>\n",
       "    <tr>\n",
       "      <th>3</th>\n",
       "      <td>id10329</td>\n",
       "      <td>Stayed here with husband and sons on the way t...</td>\n",
       "      <td>InternetExplorer</td>\n",
       "      <td>Desktop</td>\n",
       "      <td>happy</td>\n",
       "    </tr>\n",
       "    <tr>\n",
       "      <th>4</th>\n",
       "      <td>id10330</td>\n",
       "      <td>My girlfriends and I stayed here to celebrate ...</td>\n",
       "      <td>Edge</td>\n",
       "      <td>Tablet</td>\n",
       "      <td>not happy</td>\n",
       "    </tr>\n",
       "  </tbody>\n",
       "</table>\n",
       "</div>"
      ],
      "text/plain": [
       "   User_ID                                        Description  \\\n",
       "0  id10326  The room was kind of clean but had a VERY stro...   \n",
       "1  id10327  I stayed at the Crown Plaza April -- - April -...   \n",
       "2  id10328  I booked this hotel through Hotwire at the low...   \n",
       "3  id10329  Stayed here with husband and sons on the way t...   \n",
       "4  id10330  My girlfriends and I stayed here to celebrate ...   \n",
       "\n",
       "        Browser_Used Device_Used Is_Response  \n",
       "0               Edge      Mobile   not happy  \n",
       "1  Internet Explorer      Mobile   not happy  \n",
       "2            Mozilla      Tablet   not happy  \n",
       "3   InternetExplorer     Desktop       happy  \n",
       "4               Edge      Tablet   not happy  "
      ]
     },
     "execution_count": 3,
     "metadata": {},
     "output_type": "execute_result"
    }
   ],
   "source": [
    "train=pd.read_csv('train.csv')\n",
    "test=pd.read_csv('test.csv')\n",
    "train.head()"
   ]
  },
  {
   "cell_type": "code",
   "execution_count": 4,
   "metadata": {
    "collapsed": false
   },
   "outputs": [
    {
     "data": {
      "text/html": [
       "<div>\n",
       "<style>\n",
       "    .dataframe thead tr:only-child th {\n",
       "        text-align: right;\n",
       "    }\n",
       "\n",
       "    .dataframe thead th {\n",
       "        text-align: left;\n",
       "    }\n",
       "\n",
       "    .dataframe tbody tr th {\n",
       "        vertical-align: top;\n",
       "    }\n",
       "</style>\n",
       "<table border=\"1\" class=\"dataframe\">\n",
       "  <thead>\n",
       "    <tr style=\"text-align: right;\">\n",
       "      <th></th>\n",
       "      <th>User_ID</th>\n",
       "      <th>Description</th>\n",
       "      <th>Browser_Used</th>\n",
       "      <th>Device_Used</th>\n",
       "      <th>Is_Response</th>\n",
       "    </tr>\n",
       "  </thead>\n",
       "  <tbody>\n",
       "    <tr>\n",
       "      <th>0</th>\n",
       "      <td>id10326</td>\n",
       "      <td>the room was kind of clean but had a very stro...</td>\n",
       "      <td>Edge</td>\n",
       "      <td>Mobile</td>\n",
       "      <td>not happy</td>\n",
       "    </tr>\n",
       "    <tr>\n",
       "      <th>1</th>\n",
       "      <td>id10327</td>\n",
       "      <td>i stayed at the crown plaza april -- - april -...</td>\n",
       "      <td>Internet Explorer</td>\n",
       "      <td>Mobile</td>\n",
       "      <td>not happy</td>\n",
       "    </tr>\n",
       "    <tr>\n",
       "      <th>2</th>\n",
       "      <td>id10328</td>\n",
       "      <td>i booked this hotel through hotwire at the low...</td>\n",
       "      <td>Mozilla</td>\n",
       "      <td>Tablet</td>\n",
       "      <td>not happy</td>\n",
       "    </tr>\n",
       "    <tr>\n",
       "      <th>3</th>\n",
       "      <td>id10329</td>\n",
       "      <td>stayed here with husband and sons on the way t...</td>\n",
       "      <td>InternetExplorer</td>\n",
       "      <td>Desktop</td>\n",
       "      <td>happy</td>\n",
       "    </tr>\n",
       "    <tr>\n",
       "      <th>4</th>\n",
       "      <td>id10330</td>\n",
       "      <td>my girlfriends and i stayed here to celebrate ...</td>\n",
       "      <td>Edge</td>\n",
       "      <td>Tablet</td>\n",
       "      <td>not happy</td>\n",
       "    </tr>\n",
       "    <tr>\n",
       "      <th>5</th>\n",
       "      <td>id10331</td>\n",
       "      <td>we had - rooms. one was very nice and clearly ...</td>\n",
       "      <td>InternetExplorer</td>\n",
       "      <td>Desktop</td>\n",
       "      <td>happy</td>\n",
       "    </tr>\n",
       "    <tr>\n",
       "      <th>6</th>\n",
       "      <td>id10332</td>\n",
       "      <td>my husband and i have stayed in this hotel a f...</td>\n",
       "      <td>Firefox</td>\n",
       "      <td>Tablet</td>\n",
       "      <td>not happy</td>\n",
       "    </tr>\n",
       "    <tr>\n",
       "      <th>7</th>\n",
       "      <td>id10333</td>\n",
       "      <td>my wife &amp; i stayed in this glorious city a whi...</td>\n",
       "      <td>Google Chrome</td>\n",
       "      <td>Mobile</td>\n",
       "      <td>happy</td>\n",
       "    </tr>\n",
       "    <tr>\n",
       "      <th>8</th>\n",
       "      <td>id10334</td>\n",
       "      <td>my boyfriend and i stayed at the fairmont on a...</td>\n",
       "      <td>Internet Explorer</td>\n",
       "      <td>Desktop</td>\n",
       "      <td>happy</td>\n",
       "    </tr>\n",
       "    <tr>\n",
       "      <th>9</th>\n",
       "      <td>id10335</td>\n",
       "      <td>wonderful staff, great location, but it was de...</td>\n",
       "      <td>Chrome</td>\n",
       "      <td>Tablet</td>\n",
       "      <td>not happy</td>\n",
       "    </tr>\n",
       "  </tbody>\n",
       "</table>\n",
       "</div>"
      ],
      "text/plain": [
       "   User_ID                                        Description  \\\n",
       "0  id10326  the room was kind of clean but had a very stro...   \n",
       "1  id10327  i stayed at the crown plaza april -- - april -...   \n",
       "2  id10328  i booked this hotel through hotwire at the low...   \n",
       "3  id10329  stayed here with husband and sons on the way t...   \n",
       "4  id10330  my girlfriends and i stayed here to celebrate ...   \n",
       "5  id10331  we had - rooms. one was very nice and clearly ...   \n",
       "6  id10332  my husband and i have stayed in this hotel a f...   \n",
       "7  id10333  my wife & i stayed in this glorious city a whi...   \n",
       "8  id10334  my boyfriend and i stayed at the fairmont on a...   \n",
       "9  id10335  wonderful staff, great location, but it was de...   \n",
       "\n",
       "        Browser_Used Device_Used Is_Response  \n",
       "0               Edge      Mobile   not happy  \n",
       "1  Internet Explorer      Mobile   not happy  \n",
       "2            Mozilla      Tablet   not happy  \n",
       "3   InternetExplorer     Desktop       happy  \n",
       "4               Edge      Tablet   not happy  \n",
       "5   InternetExplorer     Desktop       happy  \n",
       "6            Firefox      Tablet   not happy  \n",
       "7      Google Chrome      Mobile       happy  \n",
       "8  Internet Explorer     Desktop       happy  \n",
       "9             Chrome      Tablet   not happy  "
      ]
     },
     "execution_count": 4,
     "metadata": {},
     "output_type": "execute_result"
    }
   ],
   "source": [
    "for df1 in train,test:  \n",
    "    df1.loc[:, 'Description'] = df1['Description'].str.lower()\n",
    "train.head(10)    "
   ]
  },
  {
   "cell_type": "code",
   "execution_count": 5,
   "metadata": {
    "collapsed": false
   },
   "outputs": [],
   "source": [
    "import unicodedata\n",
    "import sys\n",
    "\n",
    "tbl = dict.fromkeys(i for i in range(sys.maxunicode)\n",
    "                      if unicodedata.category(chr(i)).startswith('P'))\n",
    "def remove_punctuation(text):\n",
    "    return text.translate(tbl)\n",
    "\n",
    "test['Description']=test['Description'].apply( lambda x: remove_punctuation(x))\n",
    "train['Description']=train['Description'].apply( lambda x: remove_punctuation(x))"
   ]
  },
  {
   "cell_type": "code",
   "execution_count": 6,
   "metadata": {
    "collapsed": false
   },
   "outputs": [],
   "source": [
    "train=train.drop(['Browser_Used','Device_Used','User_ID'],axis=1)\n",
    "test=test.drop(['Browser_Used','Device_Used'],axis=1)\n"
   ]
  },
  {
   "cell_type": "code",
   "execution_count": 7,
   "metadata": {
    "collapsed": true
   },
   "outputs": [],
   "source": [
    "import nltk.stem\n",
    "from nltk.stem import WordNetLemmatizer\n",
    "\n",
    "class WordNetStemmer(WordNetLemmatizer):\n",
    "    def stem(self,word,pos=u'n'):\n",
    "        return self.lemmatize(word,pos)"
   ]
  },
  {
   "cell_type": "code",
   "execution_count": 8,
   "metadata": {
    "collapsed": false
   },
   "outputs": [
    {
     "name": "stdout",
     "output_type": "stream",
     "text": [
      "                                             Description Is_Response\n",
      "0      the room was kind of clean but had a very stro...   not happy\n",
      "1      i stayed at the crown plaza april   april   th...   not happy\n",
      "2      i booked this hotel through hotwire at the low...   not happy\n",
      "3      stayed here with husband and sons on the way t...       happy\n",
      "4      my girlfriends and i stayed here to celebrate ...   not happy\n",
      "5      we had  rooms one was very nice and clearly ha...       happy\n",
      "6      my husband and i have stayed in this hotel a f...   not happy\n",
      "7      my wife  i stayed in this glorious city a whil...       happy\n",
      "8      my boyfriend and i stayed at the fairmont on a...       happy\n",
      "9      wonderful staff great location but it was defi...   not happy\n",
      "10     steps off times square nice rooms stayed  nigh...       happy\n",
      "11     me the wife and  kids stayed here on valentine...       happy\n",
      "12     we stay at the jolly madison over the xmas per...   not happy\n",
      "13     i highly recommend the hawthorne terrace as an...       happy\n",
      "14     i found the hotel clean and nicely located goo...       happy\n",
      "15     stayed at the elan from th to th october and a...       happy\n",
      "16     priceline sent us to this hotel after acceptin...   not happy\n",
      "17     old and cheap furnituresour chair was simply d...   not happy\n",
      "18     we stayed here for  nights and were really hap...       happy\n",
      "19     the service was fine but the hotel itself fell...   not happy\n",
      "20     having stayed at many hilton properties i expe...   not happy\n",
      "21     this is everything you could want from a hotel...       happy\n",
      "22     i very much wanted to stay at a boutique hotel...   not happy\n",
      "23     i really liked this hotel the staff were wonde...       happy\n",
      "24     my wife and spent  days there this month as a ...       happy\n",
      "25     we stayed at this hotel for two nights over th...   not happy\n",
      "26     took a girls trip to la and had no idea where ...       happy\n",
      "27     stayed with my girlfriend for a long weekend \\...       happy\n",
      "28     i have stayed here numerous times and never be...       happy\n",
      "29     the public areas are nice to look at the staff...   not happy\n",
      "...                                                  ...         ...\n",
      "38902  after having stayed at the waldorf many times ...       happy\n",
      "38903  this hotel is a great choice for those staying...       happy\n",
      "38904  although new york is a large city whenever i g...       happy\n",
      "38905  i used to live in austin so when i moved away ...   not happy\n",
      "38906  ive stayed at the hilton hyatt magnolia and cl...       happy\n",
      "38907  great locationshort walk from amtrak station l...       happy\n",
      "38908  when we booked this was a renaissance hotel bu...       happy\n",
      "38909  hotel is an old style red roof and has not bee...   not happy\n",
      "38910  i have to admit i tried rebooking since i was ...       happy\n",
      "38911  room was nice everything seemed pretty new roo...       happy\n",
      "38912  then a great place to stay is this hotel not t...       happy\n",
      "38913  i will never ever stay at this hotel again i s...   not happy\n",
      "38914  after being on a bus for  hours and finally ar...   not happy\n",
      "38915  pretty cool hotel stayed for a few days in mid...       happy\n",
      "38916  we stopped over in lax on the way to canada an...       happy\n",
      "38917  i love this hotel and will stay again for seve...       happy\n",
      "38918  we were excited about our stay at the blu aqua...   not happy\n",
      "38919  i didnt get to see much of seattle but the hot...       happy\n",
      "38920  my husband and i stayed one night at the heart...       happy\n",
      "38921  we staed at the handlery hotel to visit san di...       happy\n",
      "38922  this hotel has a great location if you want to...   not happy\n",
      "38923  i am pretty impartial to this hotel i would de...   not happy\n",
      "38924  we booked a room with two single beds upon arr...       happy\n",
      "38925  arrived via taxi from la guardia  driving into...       happy\n",
      "38926  i tend to post reviews only when ive had an ex...   not happy\n",
      "38927  we arrived late at night and walked in to a ch...       happy\n",
      "38928  the only positive impression is location and p...   not happy\n",
      "38929  traveling with friends for shopping and a show...   not happy\n",
      "38930  the experience was just ok we paid extra for a...   not happy\n",
      "38931  the westin is a wonderfully restored grande da...       happy\n",
      "\n",
      "[38932 rows x 2 columns]\n"
     ]
    }
   ],
   "source": [
    "\n",
    "steamer=WordNetStemmer()\n",
    "train['Description']=pd.DataFrame([steamer.stem(w) for w in train['Description']],columns=['Descripton'])\n",
    "test['Description']=pd.DataFrame([steamer.stem(w) for w in test['Description']],columns=['Descripton'])\n",
    "\n",
    "print(train)"
   ]
  },
  {
   "cell_type": "code",
   "execution_count": 9,
   "metadata": {
    "collapsed": false
   },
   "outputs": [
    {
     "name": "stdout",
     "output_type": "stream",
     "text": [
      "TfidfVectorizer(analyzer='word', binary=False, decode_error='strict',\n",
      "        dtype=<class 'numpy.int64'>, encoding='utf-8', input='content',\n",
      "        lowercase=True, max_df=5, max_features=None, min_df=2,\n",
      "        ngram_range=(1, 1), norm='l2', preprocessor=None, smooth_idf=True,\n",
      "        stop_words='english', strip_accents=None, sublinear_tf=False,\n",
      "        token_pattern='(?u)\\\\b\\\\w\\\\w+\\\\b', tokenizer=None, use_idf=True,\n",
      "        vocabulary=None)\n"
     ]
    }
   ],
   "source": [
    "from sklearn.feature_extraction.text import TfidfVectorizer\n",
    "\n",
    "vectorizer = TfidfVectorizer(min_df=2,max_df=5,stop_words='english')\n",
    "print(vectorizer)"
   ]
  },
  {
   "cell_type": "code",
   "execution_count": 10,
   "metadata": {
    "collapsed": false
   },
   "outputs": [
    {
     "data": {
      "text/plain": [
       "TfidfVectorizer(analyzer='word', binary=False, decode_error='strict',\n",
       "        dtype=<class 'numpy.int64'>, encoding='utf-8', input='content',\n",
       "        lowercase=True, max_df=5, max_features=None, min_df=2,\n",
       "        ngram_range=(1, 1), norm='l2', preprocessor=None, smooth_idf=True,\n",
       "        stop_words='english', strip_accents=None, sublinear_tf=False,\n",
       "        token_pattern='(?u)\\\\b\\\\w\\\\w+\\\\b', tokenizer=None, use_idf=True,\n",
       "        vocabulary=None)"
      ]
     },
     "execution_count": 10,
     "metadata": {},
     "output_type": "execute_result"
    }
   ],
   "source": [
    "vectorizer.fit(train['Description'])\n"
   ]
  },
  {
   "cell_type": "code",
   "execution_count": 11,
   "metadata": {
    "collapsed": false
   },
   "outputs": [
    {
     "data": {
      "text/plain": [
       "<38932x13770 sparse matrix of type '<class 'numpy.float64'>'\n",
       "\twith 39244 stored elements in Compressed Sparse Row format>"
      ]
     },
     "execution_count": 11,
     "metadata": {},
     "output_type": "execute_result"
    }
   ],
   "source": [
    "\n",
    "X_train = vectorizer.transform(train['Description'])\n",
    "\n",
    "X_train"
   ]
  },
  {
   "cell_type": "code",
   "execution_count": 12,
   "metadata": {
    "collapsed": false
   },
   "outputs": [],
   "source": [
    "feature_set = X_train\n",
    "response=['not happy','happy']\n",
    "for key,value in zip(response,(0,1)):\n",
    "        train.loc[train['Is_Response'] == key, 'Is_Response'] = int(value)\n",
    "train.Is_Response=train.Is_Response.astype(int) \n",
    "           "
   ]
  },
  {
   "cell_type": "code",
   "execution_count": 13,
   "metadata": {
    "collapsed": false
   },
   "outputs": [
    {
     "name": "stdout",
     "output_type": "stream",
     "text": [
      "  (0, 10605)\t0.700545289988\n",
      "  (0, 2066)\t0.713607943254\n",
      "  (3, 12206)\t0.724559646301\n",
      "  (3, 10133)\t0.68921210012\n",
      "  (8, 7284)\t1.0\n",
      "  (9, 11275)\t1.0\n",
      "  (10, 7188)\t1.0\n",
      "  (13, 358)\t1.0\n",
      "  (17, 13365)\t0.714896045841\n",
      "  (17, 9204)\t0.699230751355\n",
      "  (18, 606)\t1.0\n",
      "  (20, 12812)\t1.0\n",
      "  (21, 9606)\t1.0\n",
      "  (23, 3980)\t1.0\n",
      "  (25, 9778)\t1.0\n",
      "  (28, 11473)\t0.707106781187\n",
      "  (28, 6890)\t0.707106781187\n",
      "  (29, 11418)\t1.0\n",
      "  (34, 10135)\t0.730883995134\n",
      "  (34, 7017)\t0.682501711102\n",
      "  (36, 11023)\t0.410929724294\n",
      "  (36, 7432)\t0.821859448587\n",
      "  (36, 6978)\t0.394567875606\n",
      "  (37, 5986)\t1.0\n",
      "  (38, 13437)\t0.697190260174\n",
      "  :\t:\n",
      "  (29367, 8523)\t1.0\n",
      "  (29368, 13387)\t1.0\n",
      "  (29370, 11565)\t0.488192890311\n",
      "  (29370, 7758)\t0.513230786094\n",
      "  (29370, 5667)\t0.499130174431\n",
      "  (29370, 2943)\t0.499130174431\n",
      "  (29371, 13145)\t0.338490947063\n",
      "  (29371, 11847)\t0.662147400644\n",
      "  (29371, 9341)\t0.325013368464\n",
      "  (29371, 6188)\t0.338490947063\n",
      "  (29371, 4902)\t0.34805344126\n",
      "  (29371, 4149)\t0.325013368464\n",
      "  (29375, 6182)\t1.0\n",
      "  (29379, 11446)\t1.0\n",
      "  (29381, 3909)\t1.0\n",
      "  (29383, 11838)\t1.0\n",
      "  (29385, 5831)\t1.0\n",
      "  (29387, 12469)\t1.0\n",
      "  (29389, 12409)\t1.0\n",
      "  (29390, 8499)\t0.730883995134\n",
      "  (29390, 6854)\t0.682501711102\n",
      "  (29392, 13371)\t1.0\n",
      "  (29398, 4688)\t1.0\n",
      "  (29400, 13198)\t1.0\n",
      "  (29402, 1996)\t1.0\n"
     ]
    }
   ],
   "source": [
    "X_test = vectorizer.transform(test['Description'])\n",
    "print(X_test)"
   ]
  },
  {
   "cell_type": "code",
   "execution_count": 14,
   "metadata": {
    "collapsed": false,
    "scrolled": true
   },
   "outputs": [
    {
     "name": "stderr",
     "output_type": "stream",
     "text": [
      "/usr/local/lib/python3.6/dist-packages/sklearn/cross_validation.py:41: DeprecationWarning: This module was deprecated in version 0.18 in favor of the model_selection module into which all the refactored classes and functions are moved. Also note that the interface of the new CV iterators are different from that of this module. This module will be removed in 0.20.\n",
      "  \"This module will be removed in 0.20.\", DeprecationWarning)\n"
     ]
    }
   ],
   "source": [
    "from sklearn.cross_validation import train_test_split\n",
    "x_train,x_test,y_train,y_test=train_test_split(X_train,train['Is_Response'])"
   ]
  },
  {
   "cell_type": "code",
   "execution_count": 25,
   "metadata": {
    "collapsed": false
   },
   "outputs": [
    {
     "data": {
      "text/plain": [
       "ExtraTreesClassifier(bootstrap=False, class_weight=None, criterion='gini',\n",
       "           max_depth=None, max_features='auto', max_leaf_nodes=None,\n",
       "           min_impurity_decrease=0.0, min_impurity_split=None,\n",
       "           min_samples_leaf=1, min_samples_split=2,\n",
       "           min_weight_fraction_leaf=0.0, n_estimators=200, n_jobs=-1,\n",
       "           oob_score=False, random_state=0, verbose=0, warm_start=False)"
      ]
     },
     "execution_count": 25,
     "metadata": {},
     "output_type": "execute_result"
    }
   ],
   "source": [
    "from sklearn.ensemble import ExtraTreesClassifier\n",
    "\n",
    "clf = ExtraTreesClassifier(n_estimators=200,n_jobs=-1, random_state=0)\n",
    "clf.fit(x_train,y_train)\n"
   ]
  },
  {
   "cell_type": "code",
   "execution_count": 26,
   "metadata": {
    "collapsed": false
   },
   "outputs": [
    {
     "data": {
      "text/plain": [
       "0.67707798212267545"
      ]
     },
     "execution_count": 26,
     "metadata": {},
     "output_type": "execute_result"
    }
   ],
   "source": [
    "from sklearn.metrics import accuracy_score\n",
    "\n",
    "prediction = clf.predict(x_test)\n",
    "accuracy_score(y_test,prediction)"
   ]
  },
  {
   "cell_type": "code",
   "execution_count": 29,
   "metadata": {
    "collapsed": false
   },
   "outputs": [
    {
     "data": {
      "text/plain": [
       "AdaBoostClassifier(algorithm='SAMME',\n",
       "          base_estimator=DecisionTreeClassifier(class_weight=None, criterion='gini', max_depth=1,\n",
       "            max_features=None, max_leaf_nodes=None,\n",
       "            min_impurity_decrease=0.0, min_impurity_split=None,\n",
       "            min_samples_leaf=1, min_samples_split=2,\n",
       "            min_weight_fraction_leaf=0.0, presort=False, random_state=None,\n",
       "            splitter='best'),\n",
       "          learning_rate=1.0, n_estimators=200, random_state=None)"
      ]
     },
     "execution_count": 29,
     "metadata": {},
     "output_type": "execute_result"
    }
   ],
   "source": [
    "from sklearn.ensemble import AdaBoostClassifier\n",
    "from sklearn.tree import DecisionTreeClassifier\n",
    "\n",
    "bdt = AdaBoostClassifier(DecisionTreeClassifier(max_depth=1),\n",
    "                         algorithm=\"SAMME\",\n",
    "                         n_estimators=200)\n",
    "\n",
    "bdt.fit(x_train, y_train)\n"
   ]
  },
  {
   "cell_type": "code",
   "execution_count": 30,
   "metadata": {
    "collapsed": false
   },
   "outputs": [
    {
     "data": {
      "text/plain": [
       "0.67718072536730711"
      ]
     },
     "execution_count": 30,
     "metadata": {},
     "output_type": "execute_result"
    }
   ],
   "source": [
    "prediction = bdt.predict(x_test)\n",
    "accuracy_score(y_test,prediction)"
   ]
  },
  {
   "cell_type": "code",
   "execution_count": 23,
   "metadata": {
    "collapsed": false
   },
   "outputs": [
    {
     "data": {
      "text/plain": [
       "XGBClassifier(base_score=0.5, booster='gbtree', colsample_bylevel=1,\n",
       "       colsample_bytree=1, gamma=0, learning_rate=0.1, max_delta_step=0,\n",
       "       max_depth=3, min_child_weight=1, missing=None, n_estimators=200,\n",
       "       n_jobs=1, nthread=None, objective='binary:logistic',\n",
       "       random_state=-1, reg_alpha=0, reg_lambda=1, scale_pos_weight=1,\n",
       "       seed=None, silent=True, subsample=1)"
      ]
     },
     "execution_count": 23,
     "metadata": {},
     "output_type": "execute_result"
    }
   ],
   "source": [
    "from xgboost import XGBClassifier\n",
    "\n",
    "# fit model no training data\n",
    "model = XGBClassifier(n_estimators=200)\n",
    "model.fit(x_train,y_train)\n"
   ]
  },
  {
   "cell_type": "code",
   "execution_count": 24,
   "metadata": {
    "collapsed": false
   },
   "outputs": [
    {
     "data": {
      "text/plain": [
       "0.67718072536730711"
      ]
     },
     "execution_count": 24,
     "metadata": {},
     "output_type": "execute_result"
    }
   ],
   "source": [
    "from sklearn.metrics import accuracy_score\n",
    "\n",
    "prediction = model.predict(x_test)\n",
    "accuracy_score(y_test,prediction)"
   ]
  },
  {
   "cell_type": "code",
   "execution_count": null,
   "metadata": {
    "collapsed": false
   },
   "outputs": [],
   "source": []
  },
  {
   "cell_type": "code",
   "execution_count": 52,
   "metadata": {
    "collapsed": false
   },
   "outputs": [
    {
     "data": {
      "text/html": [
       "<div>\n",
       "<style>\n",
       "    .dataframe thead tr:only-child th {\n",
       "        text-align: right;\n",
       "    }\n",
       "\n",
       "    .dataframe thead th {\n",
       "        text-align: left;\n",
       "    }\n",
       "\n",
       "    .dataframe tbody tr th {\n",
       "        vertical-align: top;\n",
       "    }\n",
       "</style>\n",
       "<table border=\"1\" class=\"dataframe\">\n",
       "  <thead>\n",
       "    <tr style=\"text-align: right;\">\n",
       "      <th></th>\n",
       "      <th>User_ID</th>\n",
       "      <th>Is_Response</th>\n",
       "    </tr>\n",
       "  </thead>\n",
       "  <tbody>\n",
       "    <tr>\n",
       "      <th>0</th>\n",
       "      <td>id80132</td>\n",
       "      <td>happy</td>\n",
       "    </tr>\n",
       "    <tr>\n",
       "      <th>1</th>\n",
       "      <td>id80133</td>\n",
       "      <td>happy</td>\n",
       "    </tr>\n",
       "    <tr>\n",
       "      <th>2</th>\n",
       "      <td>id80134</td>\n",
       "      <td>happy</td>\n",
       "    </tr>\n",
       "    <tr>\n",
       "      <th>3</th>\n",
       "      <td>id80135</td>\n",
       "      <td>happy</td>\n",
       "    </tr>\n",
       "    <tr>\n",
       "      <th>4</th>\n",
       "      <td>id80136</td>\n",
       "      <td>happy</td>\n",
       "    </tr>\n",
       "    <tr>\n",
       "      <th>5</th>\n",
       "      <td>id80137</td>\n",
       "      <td>happy</td>\n",
       "    </tr>\n",
       "    <tr>\n",
       "      <th>6</th>\n",
       "      <td>id80138</td>\n",
       "      <td>happy</td>\n",
       "    </tr>\n",
       "    <tr>\n",
       "      <th>7</th>\n",
       "      <td>id80139</td>\n",
       "      <td>happy</td>\n",
       "    </tr>\n",
       "    <tr>\n",
       "      <th>8</th>\n",
       "      <td>id80140</td>\n",
       "      <td>happy</td>\n",
       "    </tr>\n",
       "    <tr>\n",
       "      <th>9</th>\n",
       "      <td>id80141</td>\n",
       "      <td>happy</td>\n",
       "    </tr>\n",
       "    <tr>\n",
       "      <th>10</th>\n",
       "      <td>id80142</td>\n",
       "      <td>happy</td>\n",
       "    </tr>\n",
       "    <tr>\n",
       "      <th>11</th>\n",
       "      <td>id80143</td>\n",
       "      <td>happy</td>\n",
       "    </tr>\n",
       "    <tr>\n",
       "      <th>12</th>\n",
       "      <td>id80144</td>\n",
       "      <td>happy</td>\n",
       "    </tr>\n",
       "    <tr>\n",
       "      <th>13</th>\n",
       "      <td>id80145</td>\n",
       "      <td>happy</td>\n",
       "    </tr>\n",
       "    <tr>\n",
       "      <th>14</th>\n",
       "      <td>id80146</td>\n",
       "      <td>happy</td>\n",
       "    </tr>\n",
       "    <tr>\n",
       "      <th>15</th>\n",
       "      <td>id80147</td>\n",
       "      <td>happy</td>\n",
       "    </tr>\n",
       "    <tr>\n",
       "      <th>16</th>\n",
       "      <td>id80148</td>\n",
       "      <td>happy</td>\n",
       "    </tr>\n",
       "    <tr>\n",
       "      <th>17</th>\n",
       "      <td>id80149</td>\n",
       "      <td>happy</td>\n",
       "    </tr>\n",
       "    <tr>\n",
       "      <th>18</th>\n",
       "      <td>id80150</td>\n",
       "      <td>happy</td>\n",
       "    </tr>\n",
       "    <tr>\n",
       "      <th>19</th>\n",
       "      <td>id80151</td>\n",
       "      <td>happy</td>\n",
       "    </tr>\n",
       "    <tr>\n",
       "      <th>20</th>\n",
       "      <td>id80152</td>\n",
       "      <td>happy</td>\n",
       "    </tr>\n",
       "    <tr>\n",
       "      <th>21</th>\n",
       "      <td>id80153</td>\n",
       "      <td>happy</td>\n",
       "    </tr>\n",
       "    <tr>\n",
       "      <th>22</th>\n",
       "      <td>id80154</td>\n",
       "      <td>happy</td>\n",
       "    </tr>\n",
       "    <tr>\n",
       "      <th>23</th>\n",
       "      <td>id80155</td>\n",
       "      <td>happy</td>\n",
       "    </tr>\n",
       "    <tr>\n",
       "      <th>24</th>\n",
       "      <td>id80156</td>\n",
       "      <td>happy</td>\n",
       "    </tr>\n",
       "    <tr>\n",
       "      <th>25</th>\n",
       "      <td>id80157</td>\n",
       "      <td>happy</td>\n",
       "    </tr>\n",
       "    <tr>\n",
       "      <th>26</th>\n",
       "      <td>id80158</td>\n",
       "      <td>happy</td>\n",
       "    </tr>\n",
       "    <tr>\n",
       "      <th>27</th>\n",
       "      <td>id80159</td>\n",
       "      <td>happy</td>\n",
       "    </tr>\n",
       "    <tr>\n",
       "      <th>28</th>\n",
       "      <td>id80160</td>\n",
       "      <td>happy</td>\n",
       "    </tr>\n",
       "    <tr>\n",
       "      <th>29</th>\n",
       "      <td>id80161</td>\n",
       "      <td>happy</td>\n",
       "    </tr>\n",
       "    <tr>\n",
       "      <th>...</th>\n",
       "      <td>...</td>\n",
       "      <td>...</td>\n",
       "    </tr>\n",
       "    <tr>\n",
       "      <th>29374</th>\n",
       "      <td>id109506</td>\n",
       "      <td>happy</td>\n",
       "    </tr>\n",
       "    <tr>\n",
       "      <th>29375</th>\n",
       "      <td>id109507</td>\n",
       "      <td>not happy</td>\n",
       "    </tr>\n",
       "    <tr>\n",
       "      <th>29376</th>\n",
       "      <td>id109508</td>\n",
       "      <td>happy</td>\n",
       "    </tr>\n",
       "    <tr>\n",
       "      <th>29377</th>\n",
       "      <td>id109509</td>\n",
       "      <td>happy</td>\n",
       "    </tr>\n",
       "    <tr>\n",
       "      <th>29378</th>\n",
       "      <td>id109510</td>\n",
       "      <td>happy</td>\n",
       "    </tr>\n",
       "    <tr>\n",
       "      <th>29379</th>\n",
       "      <td>id109511</td>\n",
       "      <td>happy</td>\n",
       "    </tr>\n",
       "    <tr>\n",
       "      <th>29380</th>\n",
       "      <td>id109512</td>\n",
       "      <td>happy</td>\n",
       "    </tr>\n",
       "    <tr>\n",
       "      <th>29381</th>\n",
       "      <td>id109513</td>\n",
       "      <td>happy</td>\n",
       "    </tr>\n",
       "    <tr>\n",
       "      <th>29382</th>\n",
       "      <td>id109514</td>\n",
       "      <td>happy</td>\n",
       "    </tr>\n",
       "    <tr>\n",
       "      <th>29383</th>\n",
       "      <td>id109515</td>\n",
       "      <td>happy</td>\n",
       "    </tr>\n",
       "    <tr>\n",
       "      <th>29384</th>\n",
       "      <td>id109516</td>\n",
       "      <td>happy</td>\n",
       "    </tr>\n",
       "    <tr>\n",
       "      <th>29385</th>\n",
       "      <td>id109517</td>\n",
       "      <td>happy</td>\n",
       "    </tr>\n",
       "    <tr>\n",
       "      <th>29386</th>\n",
       "      <td>id109518</td>\n",
       "      <td>happy</td>\n",
       "    </tr>\n",
       "    <tr>\n",
       "      <th>29387</th>\n",
       "      <td>id109519</td>\n",
       "      <td>not happy</td>\n",
       "    </tr>\n",
       "    <tr>\n",
       "      <th>29388</th>\n",
       "      <td>id109520</td>\n",
       "      <td>happy</td>\n",
       "    </tr>\n",
       "    <tr>\n",
       "      <th>29389</th>\n",
       "      <td>id109521</td>\n",
       "      <td>happy</td>\n",
       "    </tr>\n",
       "    <tr>\n",
       "      <th>29390</th>\n",
       "      <td>id109522</td>\n",
       "      <td>happy</td>\n",
       "    </tr>\n",
       "    <tr>\n",
       "      <th>29391</th>\n",
       "      <td>id109523</td>\n",
       "      <td>happy</td>\n",
       "    </tr>\n",
       "    <tr>\n",
       "      <th>29392</th>\n",
       "      <td>id109524</td>\n",
       "      <td>not happy</td>\n",
       "    </tr>\n",
       "    <tr>\n",
       "      <th>29393</th>\n",
       "      <td>id109525</td>\n",
       "      <td>happy</td>\n",
       "    </tr>\n",
       "    <tr>\n",
       "      <th>29394</th>\n",
       "      <td>id109526</td>\n",
       "      <td>happy</td>\n",
       "    </tr>\n",
       "    <tr>\n",
       "      <th>29395</th>\n",
       "      <td>id109527</td>\n",
       "      <td>happy</td>\n",
       "    </tr>\n",
       "    <tr>\n",
       "      <th>29396</th>\n",
       "      <td>id109528</td>\n",
       "      <td>happy</td>\n",
       "    </tr>\n",
       "    <tr>\n",
       "      <th>29397</th>\n",
       "      <td>id109529</td>\n",
       "      <td>happy</td>\n",
       "    </tr>\n",
       "    <tr>\n",
       "      <th>29398</th>\n",
       "      <td>id109530</td>\n",
       "      <td>happy</td>\n",
       "    </tr>\n",
       "    <tr>\n",
       "      <th>29399</th>\n",
       "      <td>id109531</td>\n",
       "      <td>happy</td>\n",
       "    </tr>\n",
       "    <tr>\n",
       "      <th>29400</th>\n",
       "      <td>id109532</td>\n",
       "      <td>happy</td>\n",
       "    </tr>\n",
       "    <tr>\n",
       "      <th>29401</th>\n",
       "      <td>id109533</td>\n",
       "      <td>happy</td>\n",
       "    </tr>\n",
       "    <tr>\n",
       "      <th>29402</th>\n",
       "      <td>id109534</td>\n",
       "      <td>not happy</td>\n",
       "    </tr>\n",
       "    <tr>\n",
       "      <th>29403</th>\n",
       "      <td>id109535</td>\n",
       "      <td>happy</td>\n",
       "    </tr>\n",
       "  </tbody>\n",
       "</table>\n",
       "<p>29404 rows × 2 columns</p>\n",
       "</div>"
      ],
      "text/plain": [
       "        User_ID Is_Response\n",
       "0       id80132       happy\n",
       "1       id80133       happy\n",
       "2       id80134       happy\n",
       "3       id80135       happy\n",
       "4       id80136       happy\n",
       "5       id80137       happy\n",
       "6       id80138       happy\n",
       "7       id80139       happy\n",
       "8       id80140       happy\n",
       "9       id80141       happy\n",
       "10      id80142       happy\n",
       "11      id80143       happy\n",
       "12      id80144       happy\n",
       "13      id80145       happy\n",
       "14      id80146       happy\n",
       "15      id80147       happy\n",
       "16      id80148       happy\n",
       "17      id80149       happy\n",
       "18      id80150       happy\n",
       "19      id80151       happy\n",
       "20      id80152       happy\n",
       "21      id80153       happy\n",
       "22      id80154       happy\n",
       "23      id80155       happy\n",
       "24      id80156       happy\n",
       "25      id80157       happy\n",
       "26      id80158       happy\n",
       "27      id80159       happy\n",
       "28      id80160       happy\n",
       "29      id80161       happy\n",
       "...         ...         ...\n",
       "29374  id109506       happy\n",
       "29375  id109507   not happy\n",
       "29376  id109508       happy\n",
       "29377  id109509       happy\n",
       "29378  id109510       happy\n",
       "29379  id109511       happy\n",
       "29380  id109512       happy\n",
       "29381  id109513       happy\n",
       "29382  id109514       happy\n",
       "29383  id109515       happy\n",
       "29384  id109516       happy\n",
       "29385  id109517       happy\n",
       "29386  id109518       happy\n",
       "29387  id109519   not happy\n",
       "29388  id109520       happy\n",
       "29389  id109521       happy\n",
       "29390  id109522       happy\n",
       "29391  id109523       happy\n",
       "29392  id109524   not happy\n",
       "29393  id109525       happy\n",
       "29394  id109526       happy\n",
       "29395  id109527       happy\n",
       "29396  id109528       happy\n",
       "29397  id109529       happy\n",
       "29398  id109530       happy\n",
       "29399  id109531       happy\n",
       "29400  id109532       happy\n",
       "29401  id109533       happy\n",
       "29402  id109534   not happy\n",
       "29403  id109535       happy\n",
       "\n",
       "[29404 rows x 2 columns]"
      ]
     },
     "execution_count": 52,
     "metadata": {},
     "output_type": "execute_result"
    }
   ],
   "source": [
    "#submission=pd.DataFrame({'User_ID':test['User_ID']})\n",
    "#submission['Is_Response']=pd.DataFrame(prediction)\n",
    "#for key, value in zip((0,1),response):\n",
    "#        submission.loc[submission['Is_Response'] == key, \"Is_Response\"] = value\n",
    "#submission    "
   ]
  },
  {
   "cell_type": "code",
   "execution_count": 53,
   "metadata": {
    "collapsed": true
   },
   "outputs": [],
   "source": [
    "#submission.to_csv('submission2.csv',index=False)"
   ]
  },
  {
   "cell_type": "code",
   "execution_count": null,
   "metadata": {
    "collapsed": true
   },
   "outputs": [],
   "source": []
  },
  {
   "cell_type": "code",
   "execution_count": null,
   "metadata": {
    "collapsed": true
   },
   "outputs": [],
   "source": []
  },
  {
   "cell_type": "code",
   "execution_count": null,
   "metadata": {
    "collapsed": true
   },
   "outputs": [],
   "source": []
  }
 ],
 "metadata": {
  "kernelspec": {
   "display_name": "Python 3",
   "language": "python",
   "name": "python3"
  },
  "language_info": {
   "codemirror_mode": {
    "name": "ipython",
    "version": 3
   },
   "file_extension": ".py",
   "mimetype": "text/x-python",
   "name": "python",
   "nbconvert_exporter": "python",
   "pygments_lexer": "ipython3",
   "version": "3.6.2"
  }
 },
 "nbformat": 4,
 "nbformat_minor": 2
}
